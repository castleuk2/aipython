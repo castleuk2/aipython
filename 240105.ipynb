{
 "cells": [
  {
   "cell_type": "code",
   "execution_count": 1,
   "metadata": {},
   "outputs": [
    {
     "name": "stdout",
     "output_type": "stream",
     "text": [
      "['Geeks', 'for', 'Geeks']\n",
      "Geeks-for-Geeks\n"
     ]
    }
   ],
   "source": [
    "#Split & join\n",
    "\n",
    "str1 = input()\n",
    "print(str1.split())\n",
    "\n",
    "str2 = input().split()\n",
    "print('-'.join(str2))"
   ]
  },
  {
   "cell_type": "code",
   "execution_count": 6,
   "metadata": {},
   "outputs": [
    {
     "name": "stdout",
     "output_type": "stream",
     "text": [
      "[1, 4, 9, 16, 25]\n",
      "['\"Seoul\"', '\"Shanghai\"']\n"
     ]
    }
   ],
   "source": [
    "#List Comprehension\n",
    "lst = list(map(int, input().split()))\n",
    "lst = [x**2 for x in lst]\n",
    "print(lst)\n",
    "\n",
    "city = list(map(str, input().split()))\n",
    "city = [ _ for _ in city if _[0] == 'S']\n",
    "print(city)\n",
    "\n",
    "lst = [i **2 for i in range(1,20) if i % 3 ==0]\n",
    "print(lst)"
   ]
  },
  {
   "cell_type": "code",
   "execution_count": 9,
   "metadata": {},
   "outputs": [
    {
     "name": "stdout",
     "output_type": "stream",
     "text": [
      "fruit0 name is a\n",
      "fruit1 name is b\n",
      "fruit2 name is c\n",
      "fruit0 name is a\n",
      "fruit1 name is b\n",
      "fruit2 name is c\n"
     ]
    }
   ],
   "source": [
    "# Enumerate\n",
    "lst = list(map(str, input().split()))\n",
    "\n",
    "for index, fruit in enumerate(lst):\n",
    "    print('fruit{}'.format(index), 'name is', fruit)\n",
    "\n",
    "# use range\n",
    "for i in range(len(lst)):\n",
    "    print('fruit{}'.format(i), 'name is', lst[i])"
   ]
  },
  {
   "cell_type": "code",
   "execution_count": 13,
   "metadata": {},
   "outputs": [
    {
     "name": "stdout",
     "output_type": "stream",
     "text": [
      "[('M', 4), ('N', 1), ('S', 3), ('A', 2)]\n",
      "0 M 24\n",
      "1 R 50\n",
      "2 C 18\n"
     ]
    }
   ],
   "source": [
    "#zip\n",
    "name = ['M', 'N', 'S', 'A']\n",
    "roll_no = [4, 1, 3, 2]\n",
    "lst = []\n",
    "for i, j in zip(name, roll_no):\n",
    "    lst.append((i,j))\n",
    "print(lst)\n",
    "\n",
    "#zip & enumerate\n",
    "\n",
    "names = ['M', 'R', 'C']\n",
    "ages = [24, 50, 18]\n",
    "\n",
    "for index, (i, j) in enumerate(zip(names, ages)):\n",
    "    print(index, i, j)"
   ]
  },
  {
   "cell_type": "code",
   "execution_count": 18,
   "metadata": {},
   "outputs": [
    {
     "name": "stdout",
     "output_type": "stream",
     "text": [
      "['i', 'im', 'it', 'no', 'but', 'more', 'wait', 'wont', 'yours', 'cannot', 'hesitate']\n"
     ]
    }
   ],
   "source": [
    "#lambda\n",
    "data_list =['but','i','wont','hesitate','no','more','no','more','it','cannot','wait','im','yours'] \n",
    "lst = []\n",
    "[lst.append(i) for i in data_list if i not in lst]\n",
    "lst.sort(key=lambda x: (len(x), x))\n",
    "print(lst)"
   ]
  },
  {
   "cell_type": "code",
   "execution_count": 19,
   "metadata": {},
   "outputs": [
    {
     "name": "stdout",
     "output_type": "stream",
     "text": [
      "[9, 11, 13]\n"
     ]
    }
   ],
   "source": [
    "#map & lambda\n",
    "num1 = [4,5,6]\n",
    "num2 = [5,6,7]\n",
    "nums = list(map(lambda x,y : x+y, num1, num2))\n",
    "print(nums)\n"
   ]
  },
  {
   "cell_type": "code",
   "execution_count": null,
   "metadata": {},
   "outputs": [],
   "source": []
  }
 ],
 "metadata": {
  "kernelspec": {
   "display_name": "Python 3",
   "language": "python",
   "name": "python3"
  },
  "language_info": {
   "codemirror_mode": {
    "name": "ipython",
    "version": 3
   },
   "file_extension": ".py",
   "mimetype": "text/x-python",
   "name": "python",
   "nbconvert_exporter": "python",
   "pygments_lexer": "ipython3",
   "version": "3.11.7"
  }
 },
 "nbformat": 4,
 "nbformat_minor": 2
}
