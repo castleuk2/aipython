{
 "cells": [
  {
   "cell_type": "code",
   "execution_count": 1,
   "metadata": {},
   "outputs": [
    {
     "name": "stdout",
     "output_type": "stream",
     "text": [
      "부산대학교\n",
      "기초교육원\n",
      "컴퓨팅적 사고와 코딩\n"
     ]
    }
   ],
   "source": [
    "#Program2-1\n",
    "print('부산대학교')\n",
    "print('기초교육원')\n",
    "print('컴퓨팅적 사고와 코딩')"
   ]
  },
  {
   "cell_type": "code",
   "execution_count": 3,
   "metadata": {},
   "outputs": [
    {
     "name": "stdout",
     "output_type": "stream",
     "text": [
      "부산대학교\n",
      "기초교육원\n",
      "컴퓨팅적 사고와 코딩\n"
     ]
    }
   ],
   "source": [
    "#Program 2-2 (double_quotes.py)\n",
    "print(\"부산대학교\")\n",
    "print(\"기초교육원\")\n",
    "print(\"컴퓨팅적 사고와 코딩\")"
   ]
  },
  {
   "cell_type": "code",
   "execution_count": 4,
   "metadata": {},
   "outputs": [
    {
     "name": "stdout",
     "output_type": "stream",
     "text": [
      "One\n",
      "Two\n",
      "Three\n"
     ]
    }
   ],
   "source": [
    "#Program 2-3 (display_quote.py)\n",
    "print(\"\"\"One\n",
    "Two\n",
    "Three\"\"\")"
   ]
  },
  {
   "cell_type": "code",
   "execution_count": 7,
   "metadata": {},
   "outputs": [
    {
     "name": "stdout",
     "output_type": "stream",
     "text": [
      "부산대학교\n",
      "기초교육원\n",
      "컴퓨팅적 사고와 코딩\n"
     ]
    }
   ],
   "source": [
    "#Program 2-4 (comment1.py)\n",
    "#화면에 여러 줄을 \n",
    "#출력하는 방법에 대한 코드입니다. \n",
    "print(\"부산대학교\")\n",
    "print(\"기초교육원\")\n",
    "print(\"컴퓨팅적 사고와 코딩\")"
   ]
  },
  {
   "cell_type": "code",
   "execution_count": 8,
   "metadata": {},
   "outputs": [
    {
     "name": "stdout",
     "output_type": "stream",
     "text": [
      "부산대학교\n",
      "기초교육원\n",
      "컴퓨팅적 사고와 코딩\n"
     ]
    }
   ],
   "source": [
    "#Program 2-5 (comment2.py)\n",
    "print('부산대학교') #첫 번째 줄에 ‘부산대학교’를 출력합니다. \n",
    "print('기초교육원') #두 번째 줄에 ‘기초교육원’을 출력합니다. \n",
    "print('컴퓨팅적 사고와 코딩') #세 번째 줄에 ‘파이썬 프로그래밍 기초’를 출력합니다"
   ]
  },
  {
   "cell_type": "code",
   "execution_count": 10,
   "metadata": {},
   "outputs": [
    {
     "name": "stdout",
     "output_type": "stream",
     "text": [
      "우리가 수업하는 실습실:\n",
      "105\n"
     ]
    }
   ],
   "source": [
    "#Program 2-6 (variable_demo1.py)\n",
    "#하나의 변수를 활용하는 코드입니다. \n",
    "Lab = 105\n",
    "print('우리가 수업하는 실습실:')\n",
    "print(Lab)"
   ]
  },
  {
   "cell_type": "code",
   "execution_count": 11,
   "metadata": {},
   "outputs": [
    {
     "name": "stdout",
     "output_type": "stream",
     "text": [
      "우리가 수업하는 실습실:  105\n"
     ]
    }
   ],
   "source": [
    "#Program 2-7 (variable_demo2.py)\n",
    "#하나의 변수를 활용하는 코드입니다. \n",
    "Lab = 105\n",
    "print('우리가 수업하는 실습실: ', Lab)"
   ]
  },
  {
   "cell_type": "code",
   "execution_count": 12,
   "metadata": {},
   "outputs": [
    {
     "name": "stdout",
     "output_type": "stream",
     "text": [
      "나의 학번: \n",
      "20150001\n",
      "학년: \n",
      "1\n"
     ]
    }
   ],
   "source": [
    "#Program 2-8 (variable_demo3.py)\n",
    "# 변수 두 개를 생성하고 값을 할당\n",
    "my_id = 20150001\n",
    "grade = 1\n",
    "# 두 개의 변수에 할당된 값을 출력\n",
    "print('나의 학번: ')\n",
    "print(my_id)\n",
    "print('학년: ')\n",
    "print(grade)"
   ]
  },
  {
   "cell_type": "code",
   "execution_count": null,
   "metadata": {},
   "outputs": [],
   "source": []
  }
 ],
 "metadata": {
  "kernelspec": {
   "display_name": "Python 3",
   "language": "python",
   "name": "python3"
  },
  "language_info": {
   "codemirror_mode": {
    "name": "ipython",
    "version": 3
   },
   "file_extension": ".py",
   "mimetype": "text/x-python",
   "name": "python",
   "nbconvert_exporter": "python",
   "pygments_lexer": "ipython3",
   "version": "3.11.5"
  }
 },
 "nbformat": 4,
 "nbformat_minor": 2
}
