{
 "cells": [
  {
   "cell_type": "code",
   "execution_count": 1,
   "metadata": {},
   "outputs": [
    {
     "name": "stdout",
     "output_type": "stream",
     "text": [
      "우리가 수업하는 실습실:\n",
      "105\n"
     ]
    }
   ],
   "source": [
    "#Ex 2.6\n",
    "#하나의 변수를 활용하는 코드입니다. \n",
    "Lab = 105\n",
    "print('우리가 수업하는 실습실:')\n",
    "print(Lab)"
   ]
  },
  {
   "cell_type": "code",
   "execution_count": 2,
   "metadata": {},
   "outputs": [
    {
     "name": "stdout",
     "output_type": "stream",
     "text": [
      "우리가 수업하는 실습실:  105\n"
     ]
    }
   ],
   "source": [
    "#Ex 2.7\n",
    "#하나의 변수를 활용하는 코드입니다. \n",
    "Lab = 105\n",
    "print('우리가 수업하는 실습실: ', Lab)"
   ]
  },
  {
   "cell_type": "code",
   "execution_count": 4,
   "metadata": {},
   "outputs": [
    {
     "name": "stdout",
     "output_type": "stream",
     "text": [
      "나의 학번: \n",
      "20150001\n",
      "학년: \n",
      "1\n"
     ]
    }
   ],
   "source": [
    "#Ex 2.8\n",
    "# 변수 두 개를 생성하고 값을 할당\n",
    "my_id = 20150001\n",
    "grade = 1\n",
    "# 두 개의 변수에 할당된 값을 출력\n",
    "print('나의 학번: ')\n",
    "print(my_id)\n",
    "print('학년: ')\n",
    "print(grade)"
   ]
  },
  {
   "cell_type": "code",
   "execution_count": 6,
   "metadata": {},
   "outputs": [
    {
     "name": "stdout",
     "output_type": "stream",
     "text": [
      "I have 2.75 in my account.\n",
      "But now I have 99.95 in my account!\n"
     ]
    }
   ],
   "source": [
    "#Ex2.9\n",
    "# 변수에 값을 할당하고 출력하는 예제입니다. # dollars 변수에 값을 할당해봅시다.\n",
    "dollars = 2.75\n",
    "print('I have', dollars, 'in my account.')\n",
    "# dollars 변수에 새로운 값을 할당해봅시다. \n",
    "dollars = 99.95\n",
    "print('But now I have', dollars, 'in my account!')"
   ]
  },
  {
   "cell_type": "code",
   "execution_count": null,
   "metadata": {},
   "outputs": [
    {
     "name": "stdout",
     "output_type": "stream",
     "text": [
      "국어국문학과 홍길동\n"
     ]
    }
   ],
   "source": [
    "#Ex2.10\n",
    "# 두 개의 변수를 생성하고 문자열을 할당합니다. \n",
    "department = '국어국문학과' \n",
    "name = '홍길동' \n",
    "# 각 변수에 할당된 문자열 값을 출력해보자. \n",
    "print(department, name)\n"
   ]
  },
  {
   "cell_type": "code",
   "execution_count": 2,
   "metadata": {},
   "outputs": [
    {
     "name": "stdout",
     "output_type": "stream",
     "text": [
      "안녕하세요 전기과 황성욱\n"
     ]
    }
   ],
   "source": [
    "#Ex 2.11\n",
    "# 학과명을 입력받습니다. \n",
    "department = input('학과명: ')\n",
    "# 여러분의 이름을 입력받습니다. \n",
    "name = input('성명: ')\n",
    "# 두 변수의 값을 출력합니다. \n",
    "print('안녕하세요', department, name)"
   ]
  },
  {
   "cell_type": "code",
   "execution_count": 3,
   "metadata": {},
   "outputs": [
    {
     "name": "stdout",
     "output_type": "stream",
     "text": [
      "입력 정보는 다음과 같습니다.\n",
      "이름: hsw\n",
      "나이: 23\n",
      "통학시간: 5.0\n"
     ]
    }
   ],
   "source": [
    "# Ex 2.12\n",
    "# 여러분의 이름, 나이, 통학시간 정보를 입력받습니다. \n",
    "name = input('당신의 이름은 무엇입니까? ')\n",
    "age = int(input('나이는 어떻게 되시나요? '))\n",
    "attending_time = float(input('통학시간은 얼마나 걸립니까? '))\n",
    "# 변수에 입력된 데이터를 출력해봅시다. \n",
    "print('입력 정보는 다음과 같습니다.')\n",
    "print('이름:', name)\n",
    "print('나이:', age)\n",
    "print('통학시간:', attending_time)"
   ]
  },
  {
   "cell_type": "code",
   "execution_count": 4,
   "metadata": {},
   "outputs": [
    {
     "name": "stdout",
     "output_type": "stream",
     "text": [
      "총 급여:  3700.0\n"
     ]
    }
   ],
   "source": [
    "#Ex 2.13\n",
    "# salary 변수에 급여를 할당합니다. \n",
    "salary = 2500.0\n",
    "# bonus 변수에 보너스를 할당합니다. \n",
    "bonus = 1200.0\n",
    "# 급여와 보너스를 더하여 총 급여를 구해봅니다. # 총 급여를 pay 변수에 할당합니다. \n",
    "pay = salary + bonus\n",
    "# 총 급여를 출력합니다. \n",
    "print('총 급여: ', pay)"
   ]
  },
  {
   "cell_type": "code",
   "execution_count": 5,
   "metadata": {},
   "outputs": [
    {
     "name": "stdout",
     "output_type": "stream",
     "text": [
      "할인가격:  80.0\n"
     ]
    }
   ],
   "source": [
    "#Ex 2.14\n",
    "# 본 예제에서는 원가에 할인율을 적용하여 할인가격을 계산해보자. \n",
    "# original price 변수에 원가를 입력받는다. \n",
    "original_price = float(input(\"제품의 원가를 입력해주세요: \"))\n",
    "# 원가에 할인율 20%를 적용하여 할인가를 계산하여 discount 변수에 할당한다. \n",
    "discount = original_price * 0.2\n",
    "# 원가에 할인가가 적용된 제품 가격을 계산하여 sale_price 변수에 할당한다. \n",
    "sale_price = original_price - discount\n",
    "# 할인가가 적용된 제품 가격을 출력한다. \n",
    "print('할인가격: ', sale_price)\n"
   ]
  },
  {
   "cell_type": "code",
   "execution_count": 6,
   "metadata": {},
   "outputs": [],
   "source": [
    "#Ex 2.15\n",
    "# 세 과목의 평가 점수를 입력받고\n",
    "# test1, test2, test3 변수에 각각 할당한다. \n",
    "test1 = float(input('첫 번째 과목 점수를 입력해주세요: '))\n",
    "test2 = float(input('두 번째 과목 점수를 입력해주세요: '))\n",
    "test3 = float(input('세 번째 과목 점수를 입력해주세요: '))\n",
    "# 각 과목의 점수 평균을 계산하고\n",
    "# 그 결과 값을 average 변수에 할당한다. \n",
    "average = (test1 + test2 + test3) / 3.0\n",
    "# 점수 평균을 출력한다. \n",
    "print('3 과목의 평균 점수: ', average)"
   ]
  },
  {
   "cell_type": "code",
   "execution_count": 8,
   "metadata": {},
   "outputs": [
    {
     "name": "stdout",
     "output_type": "stream",
     "text": [
      "시:  3.0\n",
      "분:  15.0\n",
      "초:  30.0\n"
     ]
    }
   ],
   "source": [
    "#Ex 2.16\n",
    "# 본 예제는 초를 입력받아 시, 분, 초로 변환하는 프로그램이다. \n",
    "# 초 값을 입력받아 total_seconds 변수에 할당한다. \n",
    "total_seconds = float(input('시간 값을 초 단위로 입력해주세요: '))\n",
    "# 시간을 계산하여 hours 변수에 할당한다. \n",
    "hours = total_seconds // 3600\n",
    "# 분을 계산하여 minutes 변수에 할당한다. \n",
    "minutes = (total_seconds // 60) % 60\n",
    "# 초의 나머지 값을 seconds 변수에 할당한다. \n",
    "seconds = total_seconds % 60\n",
    "# 시, 분, 초 값을 출력한다. print('시 분 초는 다음과 같습니다.')\n",
    "print('시: ', hours)\n",
    "print('분: ', minutes)\n",
    "print('초: ', seconds)"
   ]
  },
  {
   "cell_type": "code",
   "execution_count": 9,
   "metadata": {},
   "outputs": [
    {
     "name": "stdout",
     "output_type": "stream",
     "text": [
      "적립 금액:  6139.132535407592\n"
     ]
    }
   ],
   "source": [
    "#Ex 2.17\n",
    "# 본 예제는 목표액을 특정 이율로 얻고자 할 경우 매년 적립해야할 금액을 계산해보자. \n",
    "# 목표액을 입력받고 future_value 변수에 할당한다. \n",
    "future_value = float(input('목표 금액을 입력해주세요: '))\n",
    "# 연간 이율을 입력받고 rate 변수에 할당한다. \n",
    "rate = float(input('연간 이율을 입력해주세요: '))\n",
    "# 적립 기간을 입력받고 years 변수에 할당한다. \n",
    "years = int(input('저축 기간을 연 단위로 입력해주세요: '))\n",
    "# 특정 기간동안 적립해야할 금액을 계산하여 present_value 변수에 할당한다. \n",
    "present_value = future_value / (1.0 + rate)**years\n",
    "# 적립 금액을 출력한다. \n",
    "print('적립 금액: ', present_value)"
   ]
  },
  {
   "cell_type": "code",
   "execution_count": 11,
   "metadata": {},
   "outputs": [
    {
     "name": "stdout",
     "output_type": "stream",
     "text": [
      "a b c\n",
      "abc\n",
      "a***b***c\n"
     ]
    }
   ],
   "source": [
    "#Ex 2.18\n",
    "# print() 함수에서 쉼표로 데이터를 구분하여 출력할 때\n",
    "# 자동적으로 분리되는 빈 칸을 sep 옵션으로 제어할 수 있다. \n",
    "print('a','b','c')\n",
    "print('a','b','c',sep='')\n",
    "print('a','b','c',sep='***')"
   ]
  },
  {
   "cell_type": "code",
   "execution_count": 12,
   "metadata": {},
   "outputs": [
    {
     "name": "stdout",
     "output_type": "stream",
     "text": [
      "a\n",
      "b\n",
      "cde***f\n"
     ]
    }
   ],
   "source": [
    "#Ex 2.19\n",
    "# print() 함수를 여러 번 사용할 경우, 각 print() 함수가 수행된 후에는\n",
    "# 자동적으로 줄바꿈이 일어난다. 이는 커서가 자동으로 내려가기 때문인데\n",
    "# 커서를 줄바꿈시키지 않고 바로 옆에 놓고 같은 줄에 여러 print() 함수의 내용을\n",
    "# 나타내고자 할 때 end 옵션을 사용할 수 있다. \n",
    "print('a')\n",
    "print('b')\n",
    "print('c', end='')\n",
    "print('d', end='')\n",
    "print('e', end='***')\n",
    "print('f')"
   ]
  },
  {
   "cell_type": "code",
   "execution_count": 13,
   "metadata": {},
   "outputs": [
    {
     "name": "stdout",
     "output_type": "stream",
     "text": [
      "월급여:  416.6666666666667\n"
     ]
    }
   ],
   "source": [
    "#Ex 2.20\n",
    "# 본 예제는 부동 소수점이 출력되는 연산을 수행해본다. \n",
    "# 소수점 길이를 제어하지 않고 결과 값을 출력한다. \n",
    "amount_due = 5000.0\n",
    "monthly_payment = amount_due / 12.0\n",
    "print('월급여: ', monthly_payment)"
   ]
  },
  {
   "cell_type": "code",
   "execution_count": 14,
   "metadata": {},
   "outputs": [
    {
     "name": "stdout",
     "output_type": "stream",
     "text": [
      "월급여:  416.67\n"
     ]
    }
   ],
   "source": [
    "#Ex2.21\n",
    "# 본 예제에서는 소수점 자리를 제어하여 결과를 출력해보자. \n",
    "amount_due = 5000.0\n",
    "monthly_payment = amount_due / 12\n",
    "print('월급여: ', format(monthly_payment, '.2f'))"
   ]
  },
  {
   "cell_type": "code",
   "execution_count": 15,
   "metadata": {},
   "outputs": [
    {
     "name": "stdout",
     "output_type": "stream",
     "text": [
      "Your annual pay is $60,000.00\n"
     ]
    }
   ],
   "source": [
    "#Ex2.22\n",
    "# 본 예제도 소수점 자리를 제어하여 결과를 출력해보자. \n",
    "monthly_pay = 5000.0\n",
    "annual_pay = monthly_pay * 12\n",
    "print('Your annual pay is $', format(annual_pay, ',.2f'), sep='')"
   ]
  },
  {
   "cell_type": "code",
   "execution_count": 16,
   "metadata": {},
   "outputs": [
    {
     "name": "stdout",
     "output_type": "stream",
     "text": [
      " 127.90\n",
      "3465.15\n",
      "   3.78\n",
      " 264.82\n",
      "  88.08\n",
      " 800.00\n"
     ]
    }
   ],
   "source": [
    "#Ex 2.23\n",
    "# 본 예제는 부동 소수점을 특정 너비에 맞추어 출력하는 방법에 대해 알아보자. # 아래와 같이 각 변수에 부동 소수점이 포함된 값을 할당한다. \n",
    "num1 = 127.899\n",
    "num2 = 3465.148\n",
    "num3 = 3.776\n",
    "num4 = 264.821\n",
    "num5 = 88.081\n",
    "num6 = 799.999\n",
    "# 7칸에 맞추어 부동 소수점이 포함된 변수 값을 출력한다. \n",
    "print(format(num1, '7.2f'))\n",
    "print(format(num2, '7.2f'))\n",
    "print(format(num3, '7.2f'))\n",
    "print(format(num4, '7.2f'))\n",
    "print(format(num5, '7.2f'))\n",
    "print(format(num6, '7.2f'))"
   ]
  },
  {
   "cell_type": "code",
   "execution_count": null,
   "metadata": {},
   "outputs": [],
   "source": []
  }
 ],
 "metadata": {
  "kernelspec": {
   "display_name": "Python 3",
   "language": "python",
   "name": "python3"
  },
  "language_info": {
   "codemirror_mode": {
    "name": "ipython",
    "version": 3
   },
   "file_extension": ".py",
   "mimetype": "text/x-python",
   "name": "python",
   "nbconvert_exporter": "python",
   "pygments_lexer": "ipython3",
   "version": "3.11.7"
  }
 },
 "nbformat": 4,
 "nbformat_minor": 2
}
