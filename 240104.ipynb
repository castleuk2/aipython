{
 "cells": [
  {
   "cell_type": "code",
   "execution_count": 1,
   "metadata": {},
   "outputs": [
    {
     "name": "stdout",
     "output_type": "stream",
     "text": [
      "안녕 1\n",
      "안녕 2\n",
      "안녕 3\n"
     ]
    }
   ],
   "source": [
    "a = 1\n",
    "while(a<=3):\n",
    "    print('안녕', a)\n",
    "    a += 1"
   ]
  },
  {
   "cell_type": "code",
   "execution_count": 2,
   "metadata": {},
   "outputs": [
    {
     "name": "stdout",
     "output_type": "stream",
     "text": [
      "1 Welcome\n",
      "1 Hello\n",
      "2 Hello\n",
      "3 Hello\n",
      "2 Welcome\n",
      "1 Hello\n",
      "2 Hello\n",
      "3 Hello\n",
      "3 Welcome\n",
      "1 Hello\n",
      "2 Hello\n",
      "3 Hello\n",
      "Done\n"
     ]
    }
   ],
   "source": [
    "for i in range(1,4):\n",
    "    print(i, 'Welcome')\n",
    "    for j in range(1,4):\n",
    "        print(j, 'Hello')\n",
    "\n",
    "print('Done')"
   ]
  },
  {
   "cell_type": "code",
   "execution_count": 6,
   "metadata": {},
   "outputs": [
    {
     "name": "stdout",
     "output_type": "stream",
     "text": [
      "[]\n"
     ]
    }
   ],
   "source": [
    "a=list()\n",
    "print(a)"
   ]
  },
  {
   "cell_type": "code",
   "execution_count": 16,
   "metadata": {},
   "outputs": [
    {
     "name": "stdout",
     "output_type": "stream",
     "text": [
      "29 28 27 30 \n",
      "30 20 27 29 \n",
      "1 2 3 4 \n"
     ]
    }
   ],
   "source": [
    "score = [[29,28,27,30],\n",
    "         [30,20,27,29],\n",
    "         [1,2,3,4]]\n",
    "for r in range(len(score)):\n",
    "    for c in range(len(score[0])):\n",
    "        print(score[r][c], end=' ')\n",
    "    print()"
   ]
  },
  {
   "cell_type": "code",
   "execution_count": 18,
   "metadata": {},
   "outputs": [
    {
     "name": "stdout",
     "output_type": "stream",
     "text": [
      "입력 데이터 출력 :  [90, 70, 30]\n",
      "합계 :  190\n",
      "인원수 :  3\n",
      "평균 : 63.333\n"
     ]
    }
   ],
   "source": [
    "#240104 과제\n",
    "def grade_input_print():\n",
    "    grade = []\n",
    "    while True: \n",
    "        N = input('학생의 점수를 입력하세요.')\n",
    "        if str.isdigit(N):\n",
    "            grade.append(int(N))\n",
    "        else:\n",
    "            break\n",
    "\n",
    "    print('입력 데이터 출력 : ',grade)\n",
    "    print('합계 : ', sum(grade))\n",
    "    print('인원수 : ',len(grade))\n",
    "    print('평균 : {:.3f}'.format(sum(grade) / len(grade)))\n",
    "\n",
    "grade_input_print()\n"
   ]
  },
  {
   "cell_type": "code",
   "execution_count": null,
   "metadata": {},
   "outputs": [],
   "source": []
  }
 ],
 "metadata": {
  "kernelspec": {
   "display_name": "Python 3",
   "language": "python",
   "name": "python3"
  },
  "language_info": {
   "codemirror_mode": {
    "name": "ipython",
    "version": 3
   },
   "file_extension": ".py",
   "mimetype": "text/x-python",
   "name": "python",
   "nbconvert_exporter": "python",
   "pygments_lexer": "ipython3",
   "version": "3.11.7"
  }
 },
 "nbformat": 4,
 "nbformat_minor": 2
}
