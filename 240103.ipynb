{
 "cells": [
  {
   "cell_type": "code",
   "execution_count": 1,
   "metadata": {},
   "outputs": [
    {
     "name": "stdout",
     "output_type": "stream",
     "text": [
      "a is bigger than 5\n"
     ]
    }
   ],
   "source": [
    "a = 10\n",
    "\n",
    "if a >5:\n",
    "    print('a is bigger than 5')"
   ]
  },
  {
   "cell_type": "code",
   "execution_count": 2,
   "metadata": {},
   "outputs": [
    {
     "name": "stdout",
     "output_type": "stream",
     "text": [
      "She is Female\n"
     ]
    }
   ],
   "source": [
    "gender = 'F'\n",
    "if gender == 'M':\n",
    "    print('He is Man')\n",
    "elif gender == 'F':\n",
    "    print('She is Female')\n",
    "    "
   ]
  },
  {
   "cell_type": "code",
   "execution_count": 4,
   "metadata": {},
   "outputs": [
    {
     "name": "stdout",
     "output_type": "stream",
     "text": [
      "A\n"
     ]
    }
   ],
   "source": [
    "score = int(input('점수입력(0~100)'))\n",
    "\n",
    "if score <=100 and score >= 90 :\n",
    "    print('A')\n",
    "elif score < 90 and score >= 80 :\n",
    "    print('B')\n",
    "elif score < 80 and score >= 70 :\n",
    "    print('C')\n",
    "elif score < 70 and score >= 60 :\n",
    "    print('D')\n",
    "else:\n",
    "    print('F')"
   ]
  },
  {
   "cell_type": "code",
   "execution_count": 6,
   "metadata": {},
   "outputs": [
    {
     "name": "stdout",
     "output_type": "stream",
     "text": [
      "a is bigger 5, b is smaller 10\n"
     ]
    }
   ],
   "source": [
    "a = 10\n",
    "b = 5\n",
    "# if a> 5:\n",
    "#     if b<10:\n",
    "if a >5 and b <10:\n",
    "        print('a is bigger 5, b is smaller 10')"
   ]
  },
  {
   "cell_type": "code",
   "execution_count": 7,
   "metadata": {},
   "outputs": [
    {
     "name": "stdout",
     "output_type": "stream",
     "text": [
      "1 2 3 4 5 "
     ]
    }
   ],
   "source": [
    "a = list(range(1,6))\n",
    "for i in a:\n",
    "    print(i, end=' ')"
   ]
  },
  {
   "cell_type": "code",
   "execution_count": 10,
   "metadata": {},
   "outputs": [
    {
     "name": "stdout",
     "output_type": "stream",
     "text": [
      "1 3 5 7 9 \n",
      "0 1 2 3 4 5 6 7 8 9 "
     ]
    }
   ],
   "source": [
    "for i in range(1, 10, 2):\n",
    "    print(i, end=' ')\n",
    "\n",
    "print('')\n",
    "for i in range(10):\n",
    "    print(i, end=' ')"
   ]
  },
  {
   "cell_type": "code",
   "execution_count": 11,
   "metadata": {},
   "outputs": [
    {
     "name": "stdout",
     "output_type": "stream",
     "text": [
      "합: 30 평균: 15.0\n"
     ]
    }
   ],
   "source": [
    "def add(x,y):\n",
    "    s = x + y\n",
    "    a = s / 2\n",
    "    return s, a\n",
    "h,a = add(10,20)\n",
    "print(\"합:\",h, \"평균:\", a)"
   ]
  },
  {
   "cell_type": "code",
   "execution_count": 12,
   "metadata": {},
   "outputs": [
    {
     "name": "stdout",
     "output_type": "stream",
     "text": [
      "The average score is 83.0\n"
     ]
    }
   ],
   "source": [
    "#Ex 4.1\n",
    "# 본 예제에서는 if 조건문의 기본 활용법에 대해 살펴본다. \n",
    "# 점수를 세 번 입력받고 평균을 계산한 후, 전역 상수와 비교하여\n",
    "# 클 경우에는 메시지를 출력한다. \n",
    "# 전역 상수 선언\n",
    "HIGH_SCORE = 95\n",
    "def main(): # 점수를 세 번 입력받아 각 변수에 할당한다. \n",
    "    test1 = int(input('Enter the score for test 1: ')) \n",
    "    test2 = int(input('Enter the score for test 2: ')) \n",
    "    test3 = int(input('Enter the score for test 3: '))\n",
    "    average = (test1 + test2 + test3) / 3\n",
    "    print('The average score is', average)\n",
    "    # 평균값이 HIGH_SCORE 보다 클 경우에 메시지 출력\n",
    "    if average >= HIGH_SCORE: \n",
    "        print('Congratulations!') \n",
    "        print('That is a great average!')\n",
    "main()"
   ]
  },
  {
   "cell_type": "code",
   "execution_count": 13,
   "metadata": {},
   "outputs": [
    {
     "name": "stdout",
     "output_type": "stream",
     "text": [
      "*\n",
      "**\n",
      "***\n",
      "****\n",
      "*****\n",
      "******\n",
      "*******\n",
      "********\n"
     ]
    }
   ],
   "source": [
    "BASE_SIZE = 8\n",
    "for r in range(BASE_SIZE): \n",
    "    for c in range(r + 1): \n",
    "        print('*', end='') \n",
    "    print()"
   ]
  },
  {
   "cell_type": "code",
   "execution_count": 16,
   "metadata": {},
   "outputs": [
    {
     "name": "stdout",
     "output_type": "stream",
     "text": [
      "********\n",
      "*******\n",
      "******\n",
      "*****\n",
      "****\n",
      "***\n",
      "**\n",
      "*\n"
     ]
    }
   ],
   "source": [
    "BASE_SIZE = 8\n",
    "for r in range(BASE_SIZE): \n",
    "    for c in range(BASE_SIZE-r): \n",
    "        print('*', end='') \n",
    "    print()"
   ]
  },
  {
   "cell_type": "code",
   "execution_count": null,
   "metadata": {},
   "outputs": [],
   "source": []
  }
 ],
 "metadata": {
  "kernelspec": {
   "display_name": "Python 3",
   "language": "python",
   "name": "python3"
  },
  "language_info": {
   "codemirror_mode": {
    "name": "ipython",
    "version": 3
   },
   "file_extension": ".py",
   "mimetype": "text/x-python",
   "name": "python",
   "nbconvert_exporter": "python",
   "pygments_lexer": "ipython3",
   "version": "3.11.7"
  }
 },
 "nbformat": 4,
 "nbformat_minor": 2
}
